{
 "cells": [
  {
   "cell_type": "markdown",
   "metadata": {},
   "source": [
    "## Sarah Bowman"
   ]
  },
  {
   "cell_type": "code",
   "execution_count": 1,
   "metadata": {
    "collapsed": true
   },
   "outputs": [],
   "source": [
    "import numpy as np\n",
    "import matplotlib.pyplot as plt\n",
    "%matplotlib inline\n",
    "from astropy.table import Table\n",
    "from scipy import optimize"
   ]
  },
  {
   "cell_type": "code",
   "execution_count": 10,
   "metadata": {
    "collapsed": false
   },
   "outputs": [
    {
     "name": "stderr",
     "output_type": "stream",
     "text": [
      "/anaconda/lib/python2.7/site-packages/ipykernel/__main__.py:14: RuntimeWarning: divide by zero encountered in double_scalars\n",
      "/anaconda/lib/python2.7/site-packages/ipykernel/__main__.py:23: RuntimeWarning: divide by zero encountered in double_scalars\n",
      "/anaconda/lib/python2.7/site-packages/ipykernel/__main__.py:23: RuntimeWarning: overflow encountered in double_scalars\n"
     ]
    },
    {
     "data": {
      "text/plain": [
       "[<matplotlib.lines.Line2D at 0x10d89c190>]"
      ]
     },
     "execution_count": 10,
     "metadata": {},
     "output_type": "execute_result"
    },
    {
     "data": {
      "image/png": "[encoded data removed]",
      "text/plain": [
       "<matplotlib.figure.Figure at 0x10fecd2d0>"
      ]
     },
     "metadata": {},
     "output_type": "display_data"
    }
   ],
   "source": [
    "def func(mu,x):\n",
    "    return np.sin(x) + mu*x*(x-4*np.pi)\n",
    "def func2(x,mu):\n",
    "    return np.sin(x) + mu*x*(x-4*np.pi)\n",
    "def funcD(x, mu):\n",
    "    return np.cos(x) + mu*(x-4*np.pi) + mu*x\n",
    "mu = np.linspace(-.5,.5, 10000)\n",
    "x = np.linspace(-np.pi*10.,np.pi*10.,10000)\n",
    "stable = []\n",
    "unstable = []\n",
    "for i in x:\n",
    "    res = optimize.fsolve(func,[-.5,5], args = (i),factor=500)\n",
    "    for j in res:\n",
    "        if 1/np.abs(func(j,i))>10**6:\n",
    "            deriv = funcD(i,j)\n",
    "            if deriv < 0 :\n",
    "                stable.append([j,i])\n",
    "            if deriv > 0: \n",
    "                unstable.append([j,i])\n",
    "for i in mu:\n",
    "    res = optimize.fsolve(func2,[-np.pi*10,np.pi*10], args = (i),factor=500)\n",
    "    for j in res:\n",
    "        if 1/np.abs(func2(j,i))>10**6:\n",
    "            deriv = funcD(j,i)\n",
    "            if deriv < 0 :\n",
    "                stable.append([i,j])\n",
    "            if deriv > 0: \n",
    "                unstable.append([i,j])\n",
    "st = np.array(stable)\n",
    "unst = np.array(unstable)\n",
    "plt.plot(st[:,0], st[:,1],\".\", ms = 1)\n",
    "plt.plot(unst[:,0], unst[:,1],\".\", ms = 1, color = 'red')"
   ]
  },
  {
   "cell_type": "code",
   "execution_count": null,
   "metadata": {
    "collapsed": true
   },
   "outputs": [],
   "source": []
  }
 ],
 "metadata": {
  "kernelspec": {
   "display_name": "Python [default]",
   "language": "python",
   "name": "python2"
  },
  "language_info": {
   "codemirror_mode": {
    "name": "ipython",
    "version": 2
   },
   "file_extension": ".py",
   "mimetype": "text/x-python",
   "name": "python",
   "nbconvert_exporter": "python",
   "pygments_lexer": "ipython2",
   "version": "2.7.12"
  }
 },
 "nbformat": 4,
 "nbformat_minor": 1
}
